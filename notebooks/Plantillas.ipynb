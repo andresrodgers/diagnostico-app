{
 "cells": [
  {
   "cell_type": "code",
   "execution_count": 1,
   "id": "7dbf8d7f",
   "metadata": {},
   "outputs": [],
   "source": [
    "import pandas as pd"
   ]
  },
  {
   "cell_type": "code",
   "execution_count": 2,
   "id": "09a56c64",
   "metadata": {},
   "outputs": [],
   "source": [
    "ruta_archivo =r\"C:\\Users\\Andres Rodgers\\OneDrive - Universidad Nacional Abierta y a Distancia\\1. Especialización\\Diagnostico APP\\data\\raw\\Maestro_Final_SinJerarquia2.2.xlsx\""
   ]
  },
  {
   "cell_type": "code",
   "execution_count": 3,
   "id": "21faa93f",
   "metadata": {},
   "outputs": [
    {
     "data": {
      "application/vnd.microsoft.datawrangler.viewer.v0+json": {
       "columns": [
        {
         "name": "index",
         "rawType": "int64",
         "type": "integer"
        },
        {
         "name": "codigo_final",
         "rawType": "object",
         "type": "string"
        },
        {
         "name": "nombre_final",
         "rawType": "object",
         "type": "string"
        },
        {
         "name": "codigo_v14",
         "rawType": "object",
         "type": "string"
        },
        {
         "name": "nombre_v14",
         "rawType": "object",
         "type": "string"
        },
        {
         "name": "codigo_v26",
         "rawType": "object",
         "type": "string"
        },
        {
         "name": "nombre_v26",
         "rawType": "object",
         "type": "string"
        },
        {
         "name": "plantilla",
         "rawType": "object",
         "type": "string"
        }
       ],
       "ref": "a156f5e6-2b22-43e1-a02b-0f30f314a177",
       "rows": [
        [
         "0",
         "10151704",
         "Semillas o plantulas de pasto",
         "10151704",
         "Semillas O Plantulas De Pasto",
         "10151704",
         "Semillas o plantulas de pasto",
         "Nombre; Tipo"
        ],
        [
         "1",
         "10161501",
         "Olivos",
         "10161501",
         "Arboles Y Arbustos",
         "10161501",
         "Olivos",
         "Nombre; Tipo; Longitud"
        ],
        [
         "2",
         "10171504",
         "Compost",
         "10171504",
         "Abono",
         "10171504",
         "Compost",
         "Nombre; Tipo; Ingrediente activo; Aplicación; Características adicionales"
        ],
        [
         "3",
         "10171605",
         "Mezclas de nitrogeno, fosforo y potasio NPK",
         "10171605",
         "Fertilizante",
         "10171605",
         "Mezclas de nitrogeno, fosforo y potasio NPK",
         "Características adicionales; Color; Ingrediente activo; Nombre; Tipo"
        ],
        [
         "4",
         "10171701",
         "Herbicida",
         "10171701",
         "Matamalezas",
         "10171701",
         "Herbicida",
         "Aplicación; Aspecto físico; Nombre comercial; Presentación; Tipo; Ingrediente activo"
        ]
       ],
       "shape": {
        "columns": 7,
        "rows": 5
       }
      },
      "text/html": [
       "<div>\n",
       "<style scoped>\n",
       "    .dataframe tbody tr th:only-of-type {\n",
       "        vertical-align: middle;\n",
       "    }\n",
       "\n",
       "    .dataframe tbody tr th {\n",
       "        vertical-align: top;\n",
       "    }\n",
       "\n",
       "    .dataframe thead th {\n",
       "        text-align: right;\n",
       "    }\n",
       "</style>\n",
       "<table border=\"1\" class=\"dataframe\">\n",
       "  <thead>\n",
       "    <tr style=\"text-align: right;\">\n",
       "      <th></th>\n",
       "      <th>codigo_final</th>\n",
       "      <th>nombre_final</th>\n",
       "      <th>codigo_v14</th>\n",
       "      <th>nombre_v14</th>\n",
       "      <th>codigo_v26</th>\n",
       "      <th>nombre_v26</th>\n",
       "      <th>plantilla</th>\n",
       "    </tr>\n",
       "  </thead>\n",
       "  <tbody>\n",
       "    <tr>\n",
       "      <th>0</th>\n",
       "      <td>10151704</td>\n",
       "      <td>Semillas o plantulas de pasto</td>\n",
       "      <td>10151704</td>\n",
       "      <td>Semillas O Plantulas De Pasto</td>\n",
       "      <td>10151704</td>\n",
       "      <td>Semillas o plantulas de pasto</td>\n",
       "      <td>Nombre; Tipo</td>\n",
       "    </tr>\n",
       "    <tr>\n",
       "      <th>1</th>\n",
       "      <td>10161501</td>\n",
       "      <td>Olivos</td>\n",
       "      <td>10161501</td>\n",
       "      <td>Arboles Y Arbustos</td>\n",
       "      <td>10161501</td>\n",
       "      <td>Olivos</td>\n",
       "      <td>Nombre; Tipo; Longitud</td>\n",
       "    </tr>\n",
       "    <tr>\n",
       "      <th>2</th>\n",
       "      <td>10171504</td>\n",
       "      <td>Compost</td>\n",
       "      <td>10171504</td>\n",
       "      <td>Abono</td>\n",
       "      <td>10171504</td>\n",
       "      <td>Compost</td>\n",
       "      <td>Nombre; Tipo; Ingrediente activo; Aplicación; ...</td>\n",
       "    </tr>\n",
       "    <tr>\n",
       "      <th>3</th>\n",
       "      <td>10171605</td>\n",
       "      <td>Mezclas de nitrogeno, fosforo y potasio NPK</td>\n",
       "      <td>10171605</td>\n",
       "      <td>Fertilizante</td>\n",
       "      <td>10171605</td>\n",
       "      <td>Mezclas de nitrogeno, fosforo y potasio NPK</td>\n",
       "      <td>Características adicionales; Color; Ingredient...</td>\n",
       "    </tr>\n",
       "    <tr>\n",
       "      <th>4</th>\n",
       "      <td>10171701</td>\n",
       "      <td>Herbicida</td>\n",
       "      <td>10171701</td>\n",
       "      <td>Matamalezas</td>\n",
       "      <td>10171701</td>\n",
       "      <td>Herbicida</td>\n",
       "      <td>Aplicación; Aspecto físico; Nombre comercial; ...</td>\n",
       "    </tr>\n",
       "  </tbody>\n",
       "</table>\n",
       "</div>"
      ],
      "text/plain": [
       "  codigo_final                                 nombre_final codigo_v14  \\\n",
       "0     10151704                Semillas o plantulas de pasto   10151704   \n",
       "1     10161501                                       Olivos   10161501   \n",
       "2     10171504                                      Compost   10171504   \n",
       "3     10171605  Mezclas de nitrogeno, fosforo y potasio NPK   10171605   \n",
       "4     10171701                                    Herbicida   10171701   \n",
       "\n",
       "                      nombre_v14 codigo_v26  \\\n",
       "0  Semillas O Plantulas De Pasto   10151704   \n",
       "1             Arboles Y Arbustos   10161501   \n",
       "2                          Abono   10171504   \n",
       "3                   Fertilizante   10171605   \n",
       "4                    Matamalezas   10171701   \n",
       "\n",
       "                                    nombre_v26  \\\n",
       "0                Semillas o plantulas de pasto   \n",
       "1                                       Olivos   \n",
       "2                                      Compost   \n",
       "3  Mezclas de nitrogeno, fosforo y potasio NPK   \n",
       "4                                    Herbicida   \n",
       "\n",
       "                                           plantilla  \n",
       "0                                       Nombre; Tipo  \n",
       "1                             Nombre; Tipo; Longitud  \n",
       "2  Nombre; Tipo; Ingrediente activo; Aplicación; ...  \n",
       "3  Características adicionales; Color; Ingredient...  \n",
       "4  Aplicación; Aspecto físico; Nombre comercial; ...  "
      ]
     },
     "execution_count": 3,
     "metadata": {},
     "output_type": "execute_result"
    }
   ],
   "source": [
    "# Cargar el archivo, forzando las columnas de códigos como texto\n",
    "df = pd.read_excel(ruta_archivo, dtype={\n",
    "    \"Cod. Prod. V14\": str,\n",
    "    \"Cod. Prod. V26 ES\": str\n",
    "})\n",
    "\n",
    "# Renombrar columnas clave\n",
    "df = df.rename(columns={\n",
    "    \"Cod. Prod. V14\": \"codigo_v14\",\n",
    "    \"Nombre Producto V4\": \"nombre_v14\",\n",
    "    \"Cod. Prod. V26 ES\": \"codigo_v26\",\n",
    "    \"Nombre Producto V26 ES\": \"nombre_v26\",\n",
    "    \"plantilla_final\": \"plantilla\"\n",
    "})\n",
    "\n",
    "# Limpiar códigos (evitar '.0' si vinieran así)\n",
    "df[\"codigo_v14\"] = df[\"codigo_v14\"].str.strip().str.replace(\".0\", \"\", regex=False)\n",
    "df[\"codigo_v26\"] = df[\"codigo_v26\"].str.strip().str.replace(\".0\", \"\", regex=False)\n",
    "\n",
    "# Filtrar filas con características\n",
    "df_filtrado = df[df[\"plantilla\"].notna()].copy()\n",
    "\n",
    "# Completar código y nombre final con prioridad V26\n",
    "df_filtrado[\"codigo_final\"] = df_filtrado[\"codigo_v26\"].fillna(df_filtrado[\"codigo_v14\"])\n",
    "df_filtrado[\"nombre_final\"] = df_filtrado[\"nombre_v26\"].fillna(df_filtrado[\"nombre_v14\"])\n",
    "\n",
    "# Selección de columnas finales\n",
    "df_filtrado = df_filtrado[[\"codigo_final\", \"nombre_final\", \"codigo_v14\", \"nombre_v14\", \"codigo_v26\", \"nombre_v26\", \"plantilla\"]]\n",
    "df_filtrado.head()"
   ]
  },
  {
   "cell_type": "code",
   "execution_count": 4,
   "id": "98a9c903",
   "metadata": {},
   "outputs": [],
   "source": [
    "# ✅ BLOQUE CORRECTO ÚNICO\n",
    "df_codigos = df_filtrado[[\"codigo_final\", \"codigo_v14\", \"nombre_final\"]].dropna(subset=[\"codigo_final\", \"nombre_final\"])\n",
    "df_codigos = df_codigos.rename(columns={\n",
    "    \"codigo_final\": \"code_v26\",\n",
    "    \"codigo_v14\": \"code_v14\",\n",
    "    \"nombre_final\": \"product_name\"\n",
    "})\n",
    "df_codigos = df_codigos.drop_duplicates(subset=[\"code_v26\"])"
   ]
  },
  {
   "cell_type": "code",
   "execution_count": 5,
   "id": "c40acc54",
   "metadata": {},
   "outputs": [
    {
     "name": "stdout",
     "output_type": "stream",
     "text": [
      "   code_v26      name  hierarchy_level\n",
      "0  10151704    Nombre                1\n",
      "1  10151704      Tipo                2\n",
      "2  10161501    Nombre                1\n",
      "3  10161501      Tipo                2\n",
      "4  10161501  Longitud                3\n"
     ]
    }
   ],
   "source": [
    "caracteristicas = []\n",
    "\n",
    "# Iterar por cada fila con características\n",
    "for _, row in df_filtrado.iterrows():\n",
    "    codigo = row[\"codigo_final\"]\n",
    "    plantilla = row[\"plantilla\"]\n",
    "    \n",
    "    claves = [clave.strip() for clave in plantilla.split(\";\") if clave.strip()]\n",
    "    \n",
    "    for jerarquia, clave in enumerate(claves, start=1):\n",
    "        caracteristicas.append({\n",
    "            \"code_v26\": codigo,\n",
    "            \"name\": clave,\n",
    "            \"hierarchy_level\": jerarquia\n",
    "        })\n",
    "\n",
    "# Convertir a DataFrame y eliminar duplicados por código + clave\n",
    "df_characteristics = pd.DataFrame(caracteristicas).drop_duplicates(subset=[\"code_v26\", \"name\"])\n",
    "print(df_characteristics.head())\n"
   ]
  },
  {
   "cell_type": "code",
   "execution_count": 6,
   "id": "0a32a855",
   "metadata": {},
   "outputs": [],
   "source": [
    "# Crear tabla de mapeo V14 → V26\n",
    "df_mappings = df_filtrado[\n",
    "    df_filtrado[\"codigo_v14\"].notna() & df_filtrado[\"codigo_v26\"].notna()\n",
    "][[\"codigo_v14\", \"codigo_v26\"]].drop_duplicates()\n",
    "df_mappings = df_mappings.rename(columns={\n",
    "    \"codigo_v14\": \"code_v14\",\n",
    "    \"codigo_v26\": \"code_v26\"\n",
    "})"
   ]
  },
  {
   "cell_type": "code",
   "execution_count": 7,
   "id": "ca988eca",
   "metadata": {},
   "outputs": [
    {
     "name": "stdout",
     "output_type": "stream",
     "text": [
      "🔍 VALIDACIÓN GENERAL\n",
      "- Filas originales: 1323\n",
      "- Filas con características: 1323\n",
      "- Códigos únicos encontrados: 630\n",
      "- Promedio de características por código: 5.40\n",
      "- Códigos faltantes: 693\n",
      "- Nombres faltantes: 693\n",
      "- Claves duplicadas por código (debería ser 0): 0\n"
     ]
    }
   ],
   "source": [
    "# 1. Total de filas\n",
    "total_original = len(df)\n",
    "total_filtradas = len(df_filtrado)\n",
    "\n",
    "# 2. Códigos únicos\n",
    "codigos_unicos = df_codigos[\"code_v26\"].nunique()\n",
    "\n",
    "# 3. Características por código\n",
    "carac_por_codigo = df_characteristics.groupby(\"code_v26\").size()\n",
    "promedio_caracteristicas = carac_por_codigo.mean()\n",
    "\n",
    "# 4. Verificar códigos o nombres faltantes\n",
    "faltantes_codigo = df_filtrado[\"codigo_final\"].isna().sum()\n",
    "faltantes_nombre = df_filtrado[\"nombre_final\"].isna().sum()\n",
    "\n",
    "# 5. Duplicados de código + clave\n",
    "duplicados = df_characteristics.duplicated(subset=[\"code_v26\", \"name\"]).sum()\n",
    "\n",
    "# Mostrar resumen\n",
    "print(\"🔍 VALIDACIÓN GENERAL\")\n",
    "print(f\"- Filas originales: {total_original}\")\n",
    "print(f\"- Filas con características: {total_filtradas}\")\n",
    "print(f\"- Códigos únicos encontrados: {codigos_unicos}\")\n",
    "print(f\"- Promedio de características por código: {promedio_caracteristicas:.2f}\")\n",
    "print(f\"- Códigos faltantes: {faltantes_codigo}\")\n",
    "print(f\"- Nombres faltantes: {faltantes_nombre}\")\n",
    "print(f\"- Claves duplicadas por código (debería ser 0): {duplicados}\")\n"
   ]
  },
  {
   "cell_type": "code",
   "execution_count": 8,
   "id": "458ca0b3",
   "metadata": {},
   "outputs": [
    {
     "name": "stdout",
     "output_type": "stream",
     "text": [
      "✅ Archivos exportados correctamente:\n",
      "- C:\\Users\\Andres Rodgers\\OneDrive - Universidad Nacional Abierta y a Distancia\\1. Especialización\\Diagnostico APP\\data\\processed\\codigos_unspsc.csv\n",
      "- C:\\Users\\Andres Rodgers\\OneDrive - Universidad Nacional Abierta y a Distancia\\1. Especialización\\Diagnostico APP\\data\\processed\\mapeos_v14_v26.csv\n",
      "- C:\\Users\\Andres Rodgers\\OneDrive - Universidad Nacional Abierta y a Distancia\\1. Especialización\\Diagnostico APP\\data\\processed\\caracteristicas.csv\n"
     ]
    }
   ],
   "source": [
    "import os\n",
    "\n",
    "try:\n",
    "    ruta_salida = r\"C:\\Users\\Andres Rodgers\\OneDrive - Universidad Nacional Abierta y a Distancia\\1. Especialización\\Diagnostico APP\\data\\processed\"\n",
    "\n",
    "    os.makedirs(ruta_salida, exist_ok=True)\n",
    "\n",
    "    df_codigos.to_csv(os.path.join(ruta_salida, \"codigos_unspsc.csv\"), index=False, encoding=\"utf-8\")\n",
    "    df_mappings.to_csv(os.path.join(ruta_salida, \"mapeos_v14_v26.csv\"), index=False, encoding=\"utf-8\")\n",
    "    df_characteristics.to_csv(os.path.join(ruta_salida, \"caracteristicas.csv\"), index=False, encoding=\"utf-8\")\n",
    "\n",
    "    print(\"✅ Archivos exportados correctamente:\")\n",
    "    print(f\"- {ruta_salida}\\\\codigos_unspsc.csv\")\n",
    "    print(f\"- {ruta_salida}\\\\mapeos_v14_v26.csv\")\n",
    "    print(f\"- {ruta_salida}\\\\caracteristicas.csv\")\n",
    "\n",
    "except Exception as e:\n",
    "    print(\"❌ Error al exportar los archivos CSV:\")\n",
    "    print(str(e))\n"
   ]
  },
  {
   "cell_type": "code",
   "execution_count": 9,
   "id": "c8510ce2",
   "metadata": {},
   "outputs": [
    {
     "name": "stdout",
     "output_type": "stream",
     "text": [
      "✅ Códigos únicos listos para insertar: 630\n"
     ]
    }
   ],
   "source": [
    "df_codigos = df_codigos.drop_duplicates(subset=[\"code_v26\"])\n",
    "print(f\"✅ Códigos únicos listos para insertar: {df_codigos['code_v26'].nunique()}\")"
   ]
  },
  {
   "cell_type": "markdown",
   "id": "c6af0fc8",
   "metadata": {},
   "source": [
    "# Carga archivos BDM"
   ]
  },
  {
   "cell_type": "code",
   "execution_count": 10,
   "id": "63e6cd17",
   "metadata": {},
   "outputs": [
    {
     "name": "stdout",
     "output_type": "stream",
     "text": [
      "✅ Conexión exitosa con la base de datos.\n"
     ]
    }
   ],
   "source": [
    "from sqlalchemy import create_engine, text\n",
    "\n",
    "usuario = \"root\"\n",
    "contraseña = \"Sql150796*\"\n",
    "host = \"127.0.0.1\"\n",
    "puerto = 3306\n",
    "base_datos = \"base_datos_maestra\"\n",
    "\n",
    "try:\n",
    "    engine = create_engine(f\"mysql+pymysql://{usuario}:{contraseña}@{host}:{puerto}/{base_datos}\")\n",
    "    with engine.connect() as conn:\n",
    "        conn.execute(text(\"SELECT 1\"))\n",
    "        print(\"✅ Conexión exitosa con la base de datos.\")\n",
    "except Exception as e:\n",
    "    print(\"❌ Error al conectar:\")\n",
    "    print(e)\n"
   ]
  },
  {
   "cell_type": "code",
   "execution_count": 11,
   "id": "62c05710",
   "metadata": {},
   "outputs": [
    {
     "name": "stdout",
     "output_type": "stream",
     "text": [
      "✅ Datos insertados correctamente en unspsc_codes.\n"
     ]
    }
   ],
   "source": [
    "try:\n",
    "    df_codigos.to_sql(\"unspsc_codes\", con=engine, if_exists=\"append\", index=False)\n",
    "    print(\"✅ Datos insertados correctamente en unspsc_codes.\")\n",
    "except Exception as e:\n",
    "    print(\"❌ Error al insertar en unspsc_codes:\")\n",
    "    print(e)"
   ]
  },
  {
   "cell_type": "code",
   "execution_count": 12,
   "id": "51b89571",
   "metadata": {},
   "outputs": [
    {
     "name": "stdout",
     "output_type": "stream",
     "text": [
      "🔁 Total códigos duplicados en df_codigos: 0\n"
     ]
    },
    {
     "data": {
      "text/plain": [
       "'Empty DataFrame\\nColumns: [code_v26, code_v14, product_name]\\nIndex: []'"
      ]
     },
     "execution_count": 12,
     "metadata": {},
     "output_type": "execute_result"
    }
   ],
   "source": [
    "duplicados = df_codigos[df_codigos.duplicated(subset=[\"code_v26\"], keep=False)]\n",
    "duplicados = duplicados.sort_values(\"code_v26\")\n",
    "\n",
    "print(f\"🔁 Total códigos duplicados en df_codigos: {duplicados['code_v26'].nunique()}\")\n",
    "duplicados[[\"code_v26\", \"code_v14\", \"product_name\"]].to_string(index=False)\n"
   ]
  },
  {
   "cell_type": "code",
   "execution_count": 13,
   "id": "383265c0",
   "metadata": {},
   "outputs": [
    {
     "name": "stdout",
     "output_type": "stream",
     "text": [
      "✅ Mapeos insertados en code_mappings.\n"
     ]
    }
   ],
   "source": [
    "# Obtener ids desde la tabla ya insertada\n",
    "df_ids = pd.read_sql(\"SELECT id, code_v26 FROM unspsc_codes\", con=engine)\n",
    "\n",
    "# Hacer merge para obtener el ID\n",
    "df_mappings = df_mappings.merge(df_ids, on=\"code_v26\", how=\"inner\")\n",
    "df_mappings = df_mappings.rename(columns={\"id\": \"unspsc_code_id\"})\n",
    "\n",
    "# Reorganizar columnas finales\n",
    "df_mappings = df_mappings[[\"code_v14\", \"unspsc_code_id\"]]\n",
    "\n",
    "# Insertar en tabla code_mappings\n",
    "try:\n",
    "    df_mappings.to_sql(\"code_mappings\", con=engine, if_exists=\"append\", index=False)\n",
    "    print(\"✅ Mapeos insertados en code_mappings.\")\n",
    "except Exception as e:\n",
    "    print(\"❌ Error al insertar en code_mappings:\")\n",
    "    print(e)\n"
   ]
  },
  {
   "cell_type": "code",
   "execution_count": 14,
   "id": "47189640",
   "metadata": {},
   "outputs": [
    {
     "name": "stdout",
     "output_type": "stream",
     "text": [
      "✅ Características insertadas en characteristics.\n"
     ]
    }
   ],
   "source": [
    "# Asociar id con características\n",
    "df_characteristics = df_characteristics.merge(df_ids, left_on=\"code_v26\", right_on=\"code_v26\", how=\"inner\")\n",
    "df_characteristics = df_characteristics.rename(columns={\"id\": \"unspsc_code_id\"})\n",
    "\n",
    "# Seleccionar columnas finales\n",
    "df_characteristics = df_characteristics[[\"unspsc_code_id\", \"name\", \"hierarchy_level\"]]\n",
    "\n",
    "# Insertar en tabla characteristics\n",
    "try:\n",
    "    df_characteristics.to_sql(\"characteristics\", con=engine, if_exists=\"append\", index=False)\n",
    "    print(\"✅ Características insertadas en characteristics.\")\n",
    "except Exception as e:\n",
    "    print(\"❌ Error al insertar en characteristics:\")\n",
    "    print(e)\n"
   ]
  }
 ],
 "metadata": {
  "kernelspec": {
   "display_name": "Python 3",
   "language": "python",
   "name": "python3"
  },
  "language_info": {
   "codemirror_mode": {
    "name": "ipython",
    "version": 3
   },
   "file_extension": ".py",
   "mimetype": "text/x-python",
   "name": "python",
   "nbconvert_exporter": "python",
   "pygments_lexer": "ipython3",
   "version": "3.10.11"
  }
 },
 "nbformat": 4,
 "nbformat_minor": 5
}
